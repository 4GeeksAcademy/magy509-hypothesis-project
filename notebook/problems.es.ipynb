{
 "cells": [
  {
   "cell_type": "markdown",
   "id": "d9d036c6",
   "metadata": {},
   "source": [
    "# Problemas de prueba de hipótesis"
   ]
  },
  {
   "cell_type": "markdown",
   "id": "d157c4db",
   "metadata": {},
   "source": [
    "## Ejercicio 1\n",
    "\n",
    "Usted es un nutricionista que investiga dos tipos diferentes de dietas para ver si existe una diferencia significativa en la pérdida de peso después de un mes. Eliges dos grupos aleatorios de personas; un grupo sigue la primera dieta y el otro sigue la segunda. Al final del mes, se registra la pérdida de peso (en kg) de cada persona:\n",
    "\n",
    "| Diet 1 | Diet 2 |\n",
    "|:-------|:-------|\n",
    "| 2.0 | 3.0 |\n",
    "| 2.5 | 3.2 |\n",
    "| 3.0 | 3.1 |\n",
    "| 2.8 | 2.9 |\n",
    "| 2.3 | 2.8 |\n",
    "| 2.7 | 3.0 |\n",
    "| 2.5 | 3.2 |\n",
    "\n",
    "Con estos datos se busca responder a la siguiente pregunta: ¿Existe una diferencia significativa en la pérdida de peso promedio entre las personas que siguieron la primera dieta y las que siguieron la segunda dieta?\n",
    "\n",
    "Para sacar conclusiones, siga los siguientes puntos:\n",
    "\n",
    "-Enunciar la hipótesis: hipótesis nula y alternativa.\n",
    "-Realizar la prueba para comprobar la hipótesis. Puede utilizar la prueba t de Student.\n",
    "-Analizar las conclusiones."
   ]
  },
  {
   "cell_type": "markdown",
   "id": "e0ba750e",
   "metadata": {},
   "source": [
    "$H_0$: La pérdida de peso media con ambas dietas después de un mes es igual.\n",
    "\n",
    "$H_1$: Existen diferencias en la pérdida de peso con ambas dietas después de un mes."
   ]
  },
  {
   "cell_type": "code",
   "execution_count": null,
   "id": "8e0f3cf0",
   "metadata": {},
   "outputs": [
    {
     "name": "stdout",
     "output_type": "stream",
     "text": [
      "El estadístico de la prueba es -3.5383407969933938 y el p-valor es 0.004083270191713912\n",
      "Con un nivel de significación del 5%, rechazamos la hipótesis nula de que la pérdida de peso después de un mes, con ambas dietas, es igual.\n"
     ]
    }
   ],
   "source": [
    "import numpy as numpy\n",
    "import scipy.stats as stats\n",
    "\n",
    "dieta_1 = [2.0,2.5,3.0,2.8,2.3,2.7,2.5]\n",
    "dieta_2 = [3.0,3.2,3.1,2.9,2.8,3.0,3.2]\n",
    "\n",
    "#t-test\n",
    "\n",
    "t_stat, p_value = stats.ttest_ind(dieta_1, dieta_2, alternative='two-sided')\n",
    "\n",
    "#Resultados\n",
    "\n",
    "print(f\"El estadístico de la prueba es {t_stat} y el p-valor es {p_value}.\")\n",
    "\n",
    "print(\"Con un nivel de significación del 5%, rechazamos la hipótesis nula de que la pérdida de peso después de un mes, con ambas dietas, es igual.\")"
   ]
  },
  {
   "cell_type": "markdown",
   "id": "f432e18e",
   "metadata": {},
   "source": [
    "## ANOVA\n",
    "\n",
    "**ANOVA** (*Analysis of Variance - Análisis de variación*) Es una técnica estadística utilizada para comparar las medidas de dos o más grupos. La idea detrás de ANOVA es descomponer la variabilidad total de los datos en dos componentes: variabilidad entre grupos y variabilidad dentro de los grupos:\n",
    "\n",
    "- **Variabilidad entre grupos**: Esta variabilidad se refiere a las diferencias entre las medias del grupo. Si esta variabilidad es considerablemente mayor que la variabilidad dentro del grupo, podría ser una indicación de que al menos una de las medias del grupo es diferente.\n",
    "- **Variabilidad dentro del grupo**: Esta variabilidad se refiere a la dispersión de los datos dentro de cada grupo. Si todos los grupos tienen una variabilidad similar, entonces cualquier diferencia notable en las medias de los grupos podría considerarse significativa.\n",
    "\n",
    "Las hipótesis en ANOVA suelen incluir:\n",
    "\n",
    "- **Hipótesis nula** ($H₀$): Las medias de todos los grupos son iguales.\n",
    "- **Hipótesis alternativa** ($H₁$): Al menos una de las medias del grupo es diferente.\n",
    "\n",
    "Si el resultado de la prueba ANOVA es significativo (por ejemplo, un valor p inferior a un umbral como 0,05), esto sugiere que al menos la media de un grupo es diferente."
   ]
  },
  {
   "cell_type": "markdown",
   "id": "fc5f3721",
   "metadata": {},
   "source": [
    "## Ejercicio 2\n",
    "\n",
    "Un agricultor decide probar tres tipos diferentes de fertilizantes para determinar si alguno es superior en términos de producción de maíz. El agricultor planta maíz en 15 parcelas idénticas y utiliza los tres fertilizantes (5 parcelas para cada tipo). Al final de la temporada mide el rendimiento de maíz (en kg) de cada parcela, con el siguiente resultado:\n",
    "\n",
    "| Fertilizante 1 | Fertilizante 2 | Fertilizante 3 |\n",
    "|:-------------|:-------------|:-------------|\n",
    "| 20 | 22 | 24 |\n",
    "| 21 | 21 | 23 |\n",
    "| 20 | 23 | 22 |\n",
    "| 19 | 22 | 23 |\n",
    "| 20 | 21 | 24 |\n",
    "\n",
    "Con estos datos busca responder la siguiente pregunta: ¿Existe una diferencia significativa en el rendimiento promedio del maíz entre los tres tipos de fertilizantes?\n",
    "\n",
    "Para ayudarte, sigue los siguientes puntos:\n",
    "\n",
    "-Enunciar la hipótesis: hipótesis nula y alternativa.\n",
    "-Realizar la prueba ANOVA.\n",
    "-Analizar las conclusiones.\n",
    "-Si un fertilizante es mejor que otro, ¿cómo podemos saberlo?"
   ]
  },
  {
   "cell_type": "markdown",
   "id": "17c41f46",
   "metadata": {},
   "source": [
    "$H_0$: El rendimiento medio del maíz con todos los fertilizantes es igual.\n",
    "\n",
    "$H_1$: El rendimiento medio del maíz es diferente para al menos uno de los fertilizantes."
   ]
  },
  {
   "cell_type": "code",
   "execution_count": null,
   "id": "eecad0ca",
   "metadata": {},
   "outputs": [
    {
     "name": "stdout",
     "output_type": "stream",
     "text": [
      "El estadístico de la prueba es 20.31578947368421 y el p-valor es 0.000140478247931904.\n",
      "Con un nivel de significación del 5%, rechazamos la hipótesis nula de que el crecimiento medio del maíz usando los tres fertilizantes es igual.\n"
     ]
    }
   ],
   "source": [
    "fertilizante_1 = [20,21,20,19,20]\n",
    "fertilizante_2 = [22,21,23,22,21]\n",
    "fertilizante_3 = [24,23,22,23,24]\n",
    "\n",
    "#Prueba ANOVA\n",
    "\n",
    "F = stats.f_oneway(fertilizante_1, fertilizante_2, fertilizante_3)\n",
    "\n",
    "#Resultados\n",
    "\n",
    "print(f\"El estadístico de la prueba es {F.statistic} y el p-valor es {F.pvalue}.\")\n",
    "\n",
    "print(\"Con un nivel de significación del 5%, rechazamos la hipótesis nula de que el rendimiento medio del maíz usando los tres fertilizantes es igual.\")"
   ]
  },
  {
   "cell_type": "markdown",
   "id": "e9cdc56a",
   "metadata": {},
   "source": [
    "Para determinar qué fertilizante es mejor, podemos usar el test de Tukey que compara las medias de cada fertilizante dos a dos."
   ]
  },
  {
   "cell_type": "code",
   "execution_count": null,
   "id": "06643777",
   "metadata": {},
   "outputs": [
    {
     "name": "stdout",
     "output_type": "stream",
     "text": [
      "Pairwise Group Comparisons (95.0% Confidence Interval)\n",
      "Comparison  Statistic  p-value  Lower CI  Upper CI\n",
      " (0 - 1)     -1.800     0.010    -3.143    -0.457\n",
      " (0 - 2)     -3.200     0.000    -4.543    -1.857\n",
      " (1 - 0)      1.800     0.010     0.457     3.143\n",
      " (1 - 2)     -1.400     0.041    -2.743    -0.057\n",
      " (2 - 0)      3.200     0.000     1.857     4.543\n",
      " (2 - 1)      1.400     0.041     0.057     2.743\n",
      "\n"
     ]
    }
   ],
   "source": [
    "tukey = stats.tukey_hsd(fertilizante_1, fertilizante_2, fertilizante_3, equal_var=True)\n",
    "print(tukey)"
   ]
  },
  {
   "cell_type": "markdown",
   "id": "e36190af",
   "metadata": {},
   "source": [
    "El test de Tukey nos muestra que todas las medias son diferentes, con un nivel de significación del 5% y todos los p-valor inferiores a 0.05. El valor del estadístico nos indica la diferencia entre las medias del rendimiento del maíz usando cada fertilizante. Así, vemos que el rendimiento del maíz usando el fertilizante 3 es mayor por 3.2kg que el rendimiento usando el fertilizante 1 y mayor en 1.4kg que el crecimiento usando el fertilizante 2.\n",
    "\n",
    "También podemos ver que el rendimiento del maíz usando el fertilizante 2 es mayor en 1.8kg que el rendimiento del maíz usando el fertilizante 1."
   ]
  }
 ],
 "metadata": {
  "kernelspec": {
   "display_name": "Python 3",
   "language": "python",
   "name": "python3"
  },
  "language_info": {
   "codemirror_mode": {
    "name": "ipython",
    "version": 3
   },
   "file_extension": ".py",
   "mimetype": "text/x-python",
   "name": "python",
   "nbconvert_exporter": "python",
   "pygments_lexer": "ipython3",
   "version": "3.11.4"
  }
 },
 "nbformat": 4,
 "nbformat_minor": 5
}
